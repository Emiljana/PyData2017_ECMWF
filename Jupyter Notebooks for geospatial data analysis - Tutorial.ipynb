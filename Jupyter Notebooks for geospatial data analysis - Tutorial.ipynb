{
 "cells": [
  {
   "cell_type": "code",
   "execution_count": null,
   "metadata": {
    "collapsed": true
   },
   "outputs": [],
   "source": []
  },
  {
   "cell_type": "markdown",
   "metadata": {},
   "source": [
    "# Jupyter Notebooks for Geospatial Data Analysis"
   ]
  },
  {
   "cell_type": "markdown",
   "metadata": {},
   "source": [
    "Tutorial created for [PyData London 2017](https://pydata.org/london2017/schedule/presentation/8/) <br>\n",
    "Friday, 05 May 2017, 12:15 - 13:50 | Dining Room, Bloomberg, London"
   ]
  },
  {
   "cell_type": "markdown",
   "metadata": {},
   "source": [
    "### Speakers\n",
    "[Julia Wagemann](https://pydata.org/london2017/speaker/profile/75/) - European Centre for Medium-Range Weather Forecasts <br>\n",
    "[Dr. Stephan Siemen](https://pydata.org/london2017/speaker/profile/229/) - European Centre for Medium-Range Weather Forecasts <br>"
   ]
  },
  {
   "cell_type": "markdown",
   "metadata": {},
   "source": [
    "<hr>"
   ]
  },
  {
   "cell_type": "markdown",
   "metadata": {},
   "source": [
    "# Structure of this tutorial\n",
    "<br>\n",
    "\n",
    "|Time|Content|\n",
    "|---------|-----------|\n",
    "|12:15 -12:20 | <b>Intro to tutorial and tutorial overview</b> |\n",
    "| <i>Optional</i> | <i><b>Short Intro to Jupyter</b></i> |\n",
    "|12:20 - 12:35 | [<b>Intro to ECMWF data and the geospatial workflow in general</b>](#intro-ecmwf) |\n",
    "|12:35 - 12:50 | <b>Part I: Geospatial data access</b> |\n",
    "|12:50 - 13:05 | <b>Part II: Geospatial data manipulation and analysis in Python</b> |\n",
    "|13:05 - 13:15 | <b>Part III: Interactive data visualisation in Python</b> |\n",
    "|13:15 - 13:45 | <b>Guided challenge</b>: <br> Create your own geospatial data analysis workflow with Jupyter  |"
   ]
  },
  {
   "cell_type": "markdown",
   "metadata": {},
   "source": [
    "<hr>"
   ]
  },
  {
   "cell_type": "code",
   "execution_count": null,
   "metadata": {
    "collapsed": true
   },
   "outputs": [],
   "source": [
    "# Link to tutorial material\n",
    "\n"
   ]
  },
  {
   "cell_type": "markdown",
   "metadata": {},
   "source": [
    "# <a id=\"intro-ecmwf\"></a>Intro to ECMWF (open) data and the geospatial workflow in general"
   ]
  },
  {
   "cell_type": "markdown",
   "metadata": {},
   "source": [
    "* ECMWF (open) data \n",
    "* General geospatial data workflow"
   ]
  },
  {
   "cell_type": "markdown",
   "metadata": {},
   "source": [
    "<hr>"
   ]
  },
  {
   "cell_type": "markdown",
   "metadata": {},
   "source": [
    "# Further ressources"
   ]
  },
  {
   "cell_type": "code",
   "execution_count": null,
   "metadata": {
    "collapsed": true
   },
   "outputs": [],
   "source": []
  }
 ],
 "metadata": {
  "kernelspec": {
   "display_name": "Python 2",
   "language": "python",
   "name": "python2"
  },
  "language_info": {
   "codemirror_mode": {
    "name": "ipython",
    "version": 2
   },
   "file_extension": ".py",
   "mimetype": "text/x-python",
   "name": "python",
   "nbconvert_exporter": "python",
   "pygments_lexer": "ipython2",
   "version": "2.7.8"
  }
 },
 "nbformat": 4,
 "nbformat_minor": 0
}
