{
 "cells": [
  {
   "cell_type": "markdown",
   "metadata": {
    "collapsed": true
   },
   "source": [
    "<img src=\"./img/logos_combined.png\" align=\"right\" width=\"50%\"></img>\n",
    "<br><br><br>"
   ]
  },
  {
   "cell_type": "markdown",
   "metadata": {},
   "source": [
    "# Jupyter Notebooks for Geospatial Data Analysis"
   ]
  },
  {
   "cell_type": "markdown",
   "metadata": {},
   "source": [
    "\n",
    "Tutorial created for [PyData London 2017](https://pydata.org/london2017/schedule/presentation/8/) <br>\n",
    "Friday, 05 May 2017, 12:15 - 13:50 | Dining Room, Bloomberg, London\n",
    "<img src=\"./img/pydata.png\" align=\"right\" width=\"30%\"></img>\n",
    "### Speakers\n",
    "[Julia Wagemann](https://pydata.org/london2017/speaker/profile/75/) - European Centre for Medium-Range Weather Forecasts <br>\n",
    "[Dr. Stephan Siemen](https://pydata.org/london2017/speaker/profile/229/) - European Centre for Medium-Range Weather Forecasts <br>\n",
    "\n",
    "### Access to tutorial material \n",
    "\n",
    "The tutorial material can be accessed via https://jupyter.eofrom.space. <br>\n",
    "You will need to log in with your GitHub credentials."
   ]
  },
  {
   "cell_type": "markdown",
   "metadata": {},
   "source": [
    "<hr>"
   ]
  },
  {
   "cell_type": "markdown",
   "metadata": {},
   "source": [
    "# Structure of this tutorial\n",
    "<br>\n",
    "\n",
    "|Time|Content|\n",
    "|---------|-----------|\n",
    "|12:15 -12:20 | <b>Intro to tutorial and tutorial overview</b> |\n",
    "| <i>Optional</i> | <i><b>Short Intro to Jupyter</b></i> |\n",
    "|12:20 - 12:35 | [<b>Intro to ECMWF data and the geospatial workflow in general</b>](#intro-ecmwf) |\n",
    "|12:35 - 12:50 | [<b>Part I: Geospatial data access</b>](./01_geospatial_data_access.ipynb) |\n",
    "|12:50 - 13:05 | <b>Part II: Geospatial data manipulation and analysis in Python</b> |\n",
    "|13:05 - 13:15 | <b>Part III: Interactive data visualisation in Python</b> |\n",
    "|13:15 - 13:45 | <b>Guided challenge</b>: <br> Create your own geospatial data analysis workflow with Jupyter  |"
   ]
  },
  {
   "cell_type": "markdown",
   "metadata": {},
   "source": [
    "<hr>"
   ]
  },
  {
   "cell_type": "markdown",
   "metadata": {},
   "source": [
    "# <a id=\"intro-ecmwf\"></a>Intro to ECMWF (open) data and the geospatial workflow in general"
   ]
  },
  {
   "cell_type": "markdown",
   "metadata": {},
   "source": [
    "* [About ECMWF](#ecmwf)\n",
    "* [ECMWF (open) data](#ecmwf_data)\n",
    "* [Geospatial data workflow](#geospatial_data_workflow)"
   ]
  },
  {
   "cell_type": "markdown",
   "metadata": {},
   "source": [
    "### <a id=\"ecmwf\"></a>About ECMWF\n",
    "<br>\n",
    "![about_ecmwf](img/ecmwf.png)"
   ]
  },
  {
   "cell_type": "markdown",
   "metadata": {},
   "source": [
    "### <a id=\"ecmwf_data\"></a>ECMWF (open) data\n",
    "<br>\n",
    "\n",
    "![ecmwf_data](img/ecmwf_data.png)\n",
    "<br>\n",
    "\n",
    "\n",
    "#### ECMWF data are: \n",
    "\n",
    "\n",
    "* numeric\n",
    "* structured\n",
    "* multi-dimensional (up to 5-dimensions)\n",
    "* mostly large in volume (~ 27 GB per ERA-interim parameter)\n",
    "* <b>Format:</b> netCDF or GRIB (binary format)<br>\n",
    "<br>\n",
    "\n",
    "<img src=\"./img/ecmwf_data_dimensions.png\" align=\"centre\" width=\"80%\"></img><br>"
   ]
  },
  {
   "cell_type": "markdown",
   "metadata": {},
   "source": [
    "### <a id=\"geospatial_data_workflow\"></a> Geospatial data workflow\n",
    "\n",
    "Large volumes of geospatial data require extensive processing to retrieve valuable information. A workflow to process / analyse geospatial data consists of the three main steps:\n",
    "* Data access\n",
    "* Data processing / analysis\n",
    "* Data visualisation\n",
    "<br> <br>"
   ]
  },
  {
   "cell_type": "markdown",
   "metadata": {},
   "source": [
    "<img src=\"./img/data_workflow.png\" align=\"centre\" width=\"80%\"></img><br>\n"
   ]
  },
  {
   "cell_type": "markdown",
   "metadata": {},
   "source": [
    "<hr>"
   ]
  },
  {
   "cell_type": "markdown",
   "metadata": {},
   "source": [
    "# Further ressources"
   ]
  },
  {
   "cell_type": "code",
   "execution_count": null,
   "metadata": {
    "collapsed": true
   },
   "outputs": [],
   "source": []
  }
 ],
 "metadata": {
  "kernelspec": {
   "display_name": "Python 2",
   "language": "python",
   "name": "python2"
  },
  "language_info": {
   "codemirror_mode": {
    "name": "ipython",
    "version": 2
   },
   "file_extension": ".py",
   "mimetype": "text/x-python",
   "name": "python",
   "nbconvert_exporter": "python",
   "pygments_lexer": "ipython2",
   "version": "2.7.8"
  }
 },
 "nbformat": 4,
 "nbformat_minor": 0
}
