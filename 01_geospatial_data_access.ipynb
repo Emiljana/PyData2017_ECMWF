{
 "cells": [
  {
   "cell_type": "markdown",
   "metadata": {},
   "source": [
    "<img src=\"./img/logos_combined.png\" align=\"right\" width=\"50%\"></img>\n",
    "<br><br><br>"
   ]
  },
  {
   "cell_type": "markdown",
   "metadata": {},
   "source": [
    "# Geospatial data workflow\n",
    "\n",
    "## Example I: Create a climate graph of London"
   ]
  },
  {
   "cell_type": "markdown",
   "metadata": {},
   "source": [
    "A climate graph is commonly used to describe the average weather of one specific location. It contains:\n",
    "* the <b>long-term average, minimum and maximum air temperature</b> for each month\n",
    "* the <b>long-term average precipitation</b> for each month\n",
    "\n",
    "<br>\n",
    "\n",
    "<img src=\"./img/climate_graph_london.png\" align=\"centre\" width=\"80%\"></img>\n",
    "\n",
    "<br><br>\n",
    "\n",
    "\n",
    "### Data required\n",
    "\n",
    "\n",
    "ERA-Interim reanalysis - 2m air temperature and total precipitation from 1 January 1979 to 31 December 2014\n",
    "* Format: GRIB\n",
    "* Spatial resolution: Lat/Lon grid, 0.5 x 0.5 degrees, 720 x 361 gridpoints\n",
    "* Temporal resolution: 6-hourly\n",
    "* Data volume: 27 GB per parameter\n",
    "\n",
    "<br>\n",
    "\n",
    "### Workflow\n",
    "\n",
    "(1) Retrieve monthly mean, min and max 2m air temperature from Jan 1979 to Dec 2014\n",
    "\n",
    "(2) Retrieve monthly sums of total precipitation from Jan 1979 to Dec 2014\n",
    "\n",
    "(3) Calculate averages for every month for every parameter\n",
    "\n",
    "(4) Plot the climate graph\n",
    "\n"
   ]
  },
  {
   "cell_type": "markdown",
   "metadata": {},
   "source": [
    "<hr>"
   ]
  },
  {
   "cell_type": "markdown",
   "metadata": {},
   "source": [
    "<img src=\"./img/access_button.png\" align=\"left\" width=\"10%\"></img>\n",
    "\n",
    "## Part I: Geospatial Data Access"
   ]
  },
  {
   "cell_type": "markdown",
   "metadata": {},
   "source": [
    "### Example with netCDF4 library\n",
    "\n",
    "\n",
    "\n"
   ]
  },
  {
   "cell_type": "markdown",
   "metadata": {},
   "source": [
    "### Example with OGC web services\n",
    "\n",
    "#### What are OGC web services?\n",
    "\n",
    "\n",
    "#### OWSlib library - Using WCS from Python\n",
    "\n",
    "The OWSLib library is a python library that makes accessing data and metadata through OGC services possible. The library abstracts all of the traditional HTTP API calls into programmatic function calls. An example of the use of the WebCoverageService class is given.\n",
    "\n",
    "The library is available from GitHub @ https://github.com/earthserver-eu/OWSLib\n",
    "\n"
   ]
  },
  {
   "cell_type": "markdown",
   "metadata": {},
   "source": [
    "<hr>"
   ]
  },
  {
   "cell_type": "markdown",
   "metadata": {
    "collapsed": true
   },
   "source": [
    "<img src=\"./img/processing_button.png\" align=\"left\" width=\"10%\"></img>\n",
    "\n",
    "## Part II: Geospatial Data Processing"
   ]
  },
  {
   "cell_type": "code",
   "execution_count": null,
   "metadata": {
    "collapsed": true
   },
   "outputs": [],
   "source": []
  },
  {
   "cell_type": "markdown",
   "metadata": {},
   "source": [
    "<hr>"
   ]
  },
  {
   "cell_type": "markdown",
   "metadata": {},
   "source": [
    "<img src=\"./img/visualisation_button.png\" align=\"left\" width=\"10%\"></img>\n",
    "\n",
    "## Part III: Geospatial Data Visualisation"
   ]
  },
  {
   "cell_type": "markdown",
   "metadata": {},
   "source": [
    "### Example with matplotlib"
   ]
  },
  {
   "cell_type": "markdown",
   "metadata": {},
   "source": [
    "### Example with bokeh / Jupyter Widgets"
   ]
  },
  {
   "cell_type": "markdown",
   "metadata": {},
   "source": [
    "<hr>"
   ]
  },
  {
   "cell_type": "code",
   "execution_count": null,
   "metadata": {
    "collapsed": true
   },
   "outputs": [],
   "source": []
  }
 ],
 "metadata": {
  "kernelspec": {
   "display_name": "Python 2",
   "language": "python",
   "name": "python2"
  },
  "language_info": {
   "codemirror_mode": {
    "name": "ipython",
    "version": 2
   },
   "file_extension": ".py",
   "mimetype": "text/x-python",
   "name": "python",
   "nbconvert_exporter": "python",
   "pygments_lexer": "ipython2",
   "version": "2.7.8"
  }
 },
 "nbformat": 4,
 "nbformat_minor": 0
}
